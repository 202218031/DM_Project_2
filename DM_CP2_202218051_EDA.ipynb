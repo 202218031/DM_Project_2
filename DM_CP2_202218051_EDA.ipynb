{
 "cells": [
  {
   "cell_type": "code",
   "execution_count": null,
   "metadata": {
    "id": "sXE9czqwxIzQ"
   },
   "outputs": [],
   "source": [
    "import pandas as pd\n",
    "import numpy as np\n",
    "import matplotlib.pyplot as plt\n",
    "import seaborn as sns"
   ]
  },
  {
   "cell_type": "code",
   "execution_count": null,
   "metadata": {
    "id": "5prBl6CixmR1"
   },
   "outputs": [],
   "source": [
    "df=pd.read_csv(\"smoking_driking_dataset_Ver01.csv\")"
   ]
  },
  {
   "cell_type": "code",
   "execution_count": null,
   "metadata": {
    "colab": {
     "base_uri": "https://localhost:8080/",
     "height": 1000
    },
    "id": "SPnQeGSg6nf1",
    "outputId": "a4d8b8d6-8606-45c2-fa88-824e8a1a22b6"
   },
   "outputs": [],
   "source": [
    "def check_df(dataframe, head=5):\n",
    "    print(\" Dataset's Shape \")\n",
    "    print(dataframe.shape)\n",
    "    print(\"\\n\")\n",
    "\n",
    "    print(\" Dataset's Types \")\n",
    "    print(dataframe.dtypes)\n",
    "    print(\"\\n\")\n",
    "\n",
    "    print(\" Dataset's Head \")\n",
    "    display(dataframe.head(head))\n",
    "    print(\"\\n\")\n",
    "\n",
    "    print(\" Dataset's Tail \")\n",
    "    display(dataframe.tail(head))\n",
    "    print(\"\\n\")\n",
    "\n",
    "    print(\" Null Values in Dataset \")\n",
    "    print(dataframe.isnull().sum())\n",
    "    print(\"\\n\")\n",
    "\n",
    "    print(\" Quantiles of Dataset \")\n",
    "    display(dataframe.quantile([0, 0.05, 0.50, 0.95, 0.99, 1]).T)\n",
    "    print(\"\\n\")\n",
    "\n",
    "check_df(df)"
   ]
  },
  {
   "cell_type": "markdown",
   "metadata": {
    "id": "5fQ0vhkl8VSl"
   },
   "source": [
    "CORRELATION MAP"
   ]
  },
  {
   "cell_type": "code",
   "execution_count": null,
   "metadata": {
    "colab": {
     "base_uri": "https://localhost:8080/",
     "height": 866
    },
    "id": "qbFhBLEh9bTF",
    "outputId": "fd53b006-2129-4c7f-c63d-cb0844b7502c"
   },
   "outputs": [],
   "source": [
    "correlation_matrix = df.corr()\n",
    "plt.figure(figsize=(15, 8))\n",
    "sns.heatmap(correlation_matrix, annot=True, fmt = \".2f\", cmap='coolwarm', linewidths=.5)\n",
    "plt.title(\"Correlation Heatmap\")\n",
    "plt.show()"
   ]
  },
  {
   "cell_type": "markdown",
   "metadata": {
    "id": "oFHCivYf-J2y"
   },
   "source": [
    "EDA using Pandas Profiling:"
   ]
  },
  {
   "cell_type": "code",
   "execution_count": null,
   "metadata": {},
   "outputs": [],
   "source": [
    "!pip install ydata-profiling"
   ]
  },
  {
   "cell_type": "code",
   "execution_count": null,
   "metadata": {},
   "outputs": [],
   "source": [
    "from ydata_profiling import ProfileReport"
   ]
  },
  {
   "cell_type": "code",
   "execution_count": null,
   "metadata": {},
   "outputs": [],
   "source": [
    "profile = ProfileReport(df, title=\"Pandas Profiling Report\")\n",
    "profile"
   ]
  }
 ],
 "metadata": {
  "colab": {
   "provenance": []
  },
  "kernelspec": {
   "display_name": "Python 3 (ipykernel)",
   "language": "python",
   "name": "python3"
  },
  "language_info": {
   "codemirror_mode": {
    "name": "ipython",
    "version": 3
   },
   "file_extension": ".py",
   "mimetype": "text/x-python",
   "name": "python",
   "nbconvert_exporter": "python",
   "pygments_lexer": "ipython3",
   "version": "3.10.9"
  }
 },
 "nbformat": 4,
 "nbformat_minor": 1
}
